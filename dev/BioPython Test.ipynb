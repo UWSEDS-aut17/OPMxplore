{
 "cells": [
  {
   "cell_type": "code",
   "execution_count": 42,
   "metadata": {
    "collapsed": true
   },
   "outputs": [],
   "source": [
    "from Bio import SeqIO\n",
    "import os\n",
    "import pypdb\n",
    "import nglview as nv"
   ]
  },
  {
   "cell_type": "code",
   "execution_count": 34,
   "metadata": {
    "collapsed": true
   },
   "outputs": [],
   "source": [
    "def get_file_path(filename):\n",
    "    return os.path.dirname(os.getcwd())+\"\\\\data\\\\\"+filename\n",
    "\n",
    "def count_records(filepath):\n",
    "    count = 0\n",
    "    for record in SeqIO.parse(filepath, \"fasta\"):\n",
    "        count = count + 1\n",
    "    return count"
   ]
  },
  {
   "cell_type": "code",
   "execution_count": 35,
   "metadata": {},
   "outputs": [
    {
     "name": "stdout",
     "output_type": "stream",
     "text": [
      "C:\\Users\\T420\\Google Drive\\UW Classes\\CSE583\\projects\\uwseds-group-pdb-search-and-analysis\\data\\BacA.fasta\n",
      "1\n",
      "gi|2982194|gb|AAC06346.1|\n",
      "Seq('MVAKHSLENGVFHKMTENEKELILHFNNTKTDYPKNKTLHELFEEQAMKTPDHT...EEV', SingleLetterAlphabet())\n",
      "5255\n"
     ]
    }
   ],
   "source": [
    "filepath=get_file_path(\"BacA.fasta\")\n",
    "count=count_records(filepath)\n",
    "print(filepath)\n",
    "print(count)\n",
    "for seq_record in SeqIO.parse(filepath, \"fasta\"):\n",
    "    print(seq_record.id)\n",
    "    print(repr(seq_record.seq))\n",
    "    print(len(seq_record))"
   ]
  },
  {
   "cell_type": "code",
   "execution_count": 36,
   "metadata": {},
   "outputs": [
    {
     "name": "stdout",
     "output_type": "stream",
     "text": [
      "There were 458 records in file C:\\Users\\T420\\Google Drive\\UW Classes\\CSE583\\projects\\uwseds-group-pdb-search-and-analysis\\data\\all_KS_public_12062011.faa\n",
      "There were 189 records in file C:\\Users\\T420\\Google Drive\\UW Classes\\CSE583\\projects\\uwseds-group-pdb-search-and-analysis\\data\\all_C_public_12062011.faa\n"
     ]
    }
   ],
   "source": [
    "ks_path = get_file_path(\"all_KS_public_12062011.faa\")\n",
    "c_path = get_file_path(\"all_C_public_12062011.faa\")\n",
    "print(\"There were \" + str(count_records(ks_path)) + \" records in file \" + ks_path)\n",
    "print(\"There were \" + str(count_records(c_path)) + \" records in file \" + c_path)\n"
   ]
  },
  {
   "cell_type": "code",
   "execution_count": 38,
   "metadata": {},
   "outputs": [
    {
     "name": "stdout",
     "output_type": "stream",
     "text": [
      "ID: gi|2982194|gb|AAC06346.1|\n",
      "Name: gi|2982194|gb|AAC06346.1|\n",
      "Description: gi|2982194|gb|AAC06346.1| bacitracin synthetase 1; BacA [Bacillus licheniformis]\n",
      "Number of features: 0\n",
      "Seq('MVAKHSLENGVFHKMTENEKELILHFNNTKTDYPKNKTLHELFEEQAMKTPDHT...EEV', SingleLetterAlphabet())\n"
     ]
    }
   ],
   "source": [
    "print(SeqIO.read(get_file_path(\"BacA.fasta\"), \"fasta\"))\n"
   ]
  },
  {
   "cell_type": "code",
   "execution_count": 39,
   "metadata": {},
   "outputs": [
    {
     "name": "stdout",
     "output_type": "stream",
     "text": [
      "144 records selected out of 458\n"
     ]
    }
   ],
   "source": [
    "output_filename = get_file_path(\"ks_long_only.faa\")\n",
    "count = 0\n",
    "total = 0\n",
    "output_handle = open(output_filename, \"w\")\n",
    "for record in SeqIO.parse(ks_path, \"fasta\"):\n",
    "    total = total + 1\n",
    "    if 300 <= len(record):\n",
    "        count = count + 1\n",
    "        SeqIO.write(record, output_handle, \"fasta\")\n",
    "output_handle.close()\n",
    "print(str(count) + \" records selected out of \" + str(total))"
   ]
  },
  {
   "cell_type": "code",
   "execution_count": 40,
   "metadata": {},
   "outputs": [
    {
     "name": "stdout",
     "output_type": "stream",
     "text": [
      "71\n"
     ]
    }
   ],
   "source": [
    "search_dict = pypdb.make_query('nonribosomal peptide synthetase')\n",
    "found_pdbs = pypdb.do_search(search_dict)\n",
    "print(len(found_pdbs))"
   ]
  },
  {
   "cell_type": "code",
   "execution_count": 44,
   "metadata": {},
   "outputs": [
    {
     "data": {
      "application/vnd.jupyter.widget-view+json": {
       "model_id": "9d7d7b24a377401689316311bfe52d17",
       "version_major": 2,
       "version_minor": 0
      },
      "text/plain": [
       "A Jupyter Widget"
      ]
     },
     "metadata": {},
     "output_type": "display_data"
    }
   ],
   "source": [
    "view = nv.show_pdbid(found_pdbs[0])\n",
    "view"
   ]
  },
  {
   "cell_type": "code",
   "execution_count": 45,
   "metadata": {},
   "outputs": [
    {
     "ename": "ModuleNotFoundError",
     "evalue": "No module named 'ipymol'",
     "output_type": "error",
     "traceback": [
      "\u001b[1;31m---------------------------------------------------------------------------\u001b[0m",
      "\u001b[1;31mModuleNotFoundError\u001b[0m                       Traceback (most recent call last)",
      "\u001b[1;32m<ipython-input-45-e90e952713f3>\u001b[0m in \u001b[0;36m<module>\u001b[1;34m()\u001b[0m\n\u001b[1;32m----> 1\u001b[1;33m \u001b[1;32mfrom\u001b[0m \u001b[0mipymol\u001b[0m \u001b[1;32mimport\u001b[0m \u001b[0mviewer\u001b[0m \u001b[1;32mas\u001b[0m \u001b[0mpymol\u001b[0m\u001b[1;33m\u001b[0m\u001b[0m\n\u001b[0m",
      "\u001b[1;31mModuleNotFoundError\u001b[0m: No module named 'ipymol'"
     ]
    }
   ],
   "source": []
  },
  {
   "cell_type": "code",
   "execution_count": null,
   "metadata": {
    "collapsed": true
   },
   "outputs": [],
   "source": []
  }
 ],
 "metadata": {
  "kernelspec": {
   "display_name": "Python 3",
   "language": "python",
   "name": "python3"
  },
  "language_info": {
   "codemirror_mode": {
    "name": "ipython",
    "version": 3
   },
   "file_extension": ".py",
   "mimetype": "text/x-python",
   "name": "python",
   "nbconvert_exporter": "python",
   "pygments_lexer": "ipython3",
   "version": "3.6.2"
  }
 },
 "nbformat": 4,
 "nbformat_minor": 2
}
