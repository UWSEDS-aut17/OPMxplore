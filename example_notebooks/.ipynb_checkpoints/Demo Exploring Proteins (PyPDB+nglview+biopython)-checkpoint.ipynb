{
 "cells": [
  {
   "cell_type": "markdown",
   "metadata": {},
   "source": [
    "Demo for accessing PDB, visualizing, and parsing \n",
    "Sinduja K. Marx Nov-15-2017\n",
    "\n",
    "TO DO: fix ipywidets \n",
    "currently the cells need to be run for the pretty widgets to show\n",
    "TO DO: annotate formats and types"
   ]
  },
  {
   "cell_type": "markdown",
   "metadata": {},
   "source": [
    "### PyPDB: A python API for Protein Data Bank\n",
    "installation instructions\n",
    "https://github.com/williamgilpin/pypdb\n"
   ]
  },
  {
   "cell_type": "markdown",
   "metadata": {},
   "source": [
    "### Description \n",
    "A Python 3 toolkit for performing searches with the RCSB Protein Data Bank (PDB) using its XML-based API. This can be used to perform advanced searches for PDB IDs matching various criteria, as well as to look up information associated with specific PDB IDs. This tool allows standard operations that can be perfomed from within the PDB website (BLAST, PFAM lookup, etc.) to be performed within Python scripts, allowing it to supplement existing tools (i.e. Biopython) that are designed for manipulating .pdb files"
   ]
  },
  {
   "cell_type": "code",
   "execution_count": 4,
   "metadata": {},
   "outputs": [
    {
     "name": "stdout",
     "output_type": "stream",
     "text": [
      "Populating the interactive namespace from numpy and matplotlib\n"
     ]
    }
   ],
   "source": [
    "%pylab inline\n",
    "from IPython.display import HTML\n",
    "# from pypdb.pypdb import *\n",
    "from pypdb import *\n",
    "\n",
    "import pprint"
   ]
  },
  {
   "cell_type": "code",
   "execution_count": null,
   "metadata": {},
   "outputs": [],
   "source": [
    "## search channels in the protein data bank"
   ]
  },
  {
   "cell_type": "code",
   "execution_count": 12,
   "metadata": {},
   "outputs": [
    {
     "name": "stdout",
     "output_type": "stream",
     "text": [
      "['1A11', '1A3Q', '1A68']\n",
      "['6PRN', '7PRN', '8PRN']\n"
     ]
    }
   ],
   "source": [
    "search_dict = make_query('channels')\n",
    "found_pdbs = do_search(search_dict)\n",
    "print(found_pdbs[:3])\n",
    "print(found_pdbs[-3:])"
   ]
  },
  {
   "cell_type": "code",
   "execution_count": 15,
   "metadata": {},
   "outputs": [
    {
     "name": "stdout",
     "output_type": "stream",
     "text": [
      "{'polymer': {'@entityNr': '1', '@length': '25', '@type': 'protein', '@weight': '2666.14', 'chain': {'@id': 'A'}, 'Taxonomy': {'@name': 'Rattus norvegicus', '@id': '10116'}, 'synonym': {'@name': 'ACHR M2'}, 'macroMolecule': {'@name': 'Acetylcholine receptor subunit delta', 'accession': {'@id': 'P25110'}}, 'polymerDescription': {'@description': 'ACETYLCHOLINE RECEPTOR M2'}}, 'id': '1A11'}\n"
     ]
    }
   ],
   "source": [
    "all_info = get_all_info('1A11')\n",
    "print(all_info)"
   ]
  },
  {
   "cell_type": "code",
   "execution_count": 18,
   "metadata": {},
   "outputs": [
    {
     "data": {
      "text/plain": [
       "{'citation_authors': 'Opella, S.J., Marassi, F.M., Gesell, J.J., Valente, A.P., Kim, Y., Oblatt-Montal, M., Montal, M.',\n",
       " 'deposition_date': '1997-12-19',\n",
       " 'expMethod': 'SOLUTION NMR',\n",
       " 'keywords': 'ACETYLCHOLINE RECEPTOR',\n",
       " 'last_modification_date': '2011-07-13',\n",
       " 'nr_atoms': '186',\n",
       " 'nr_entities': '1',\n",
       " 'nr_residues': '25',\n",
       " 'pubmedCentralId': 'PMC3282055',\n",
       " 'pubmedId': '10201407',\n",
       " 'release_date': '1998-04-08',\n",
       " 'status': 'CURRENT',\n",
       " 'structureId': '1A11',\n",
       " 'structure_authors': 'Gesell, J.J., Sun, W., Montal, M., Opella, S.J.',\n",
       " 'title': 'NMR STRUCTURE OF MEMBRANE SPANNING SEGMENT 2 OF THE ACETYLCHOLINE RECEPTOR IN DPC MICELLES, 10 STRUCTURES'}"
      ]
     },
     "execution_count": 18,
     "metadata": {},
     "output_type": "execute_result"
    }
   ],
   "source": [
    "describe_pdb('1A11')"
   ]
  },
  {
   "cell_type": "code",
   "execution_count": null,
   "metadata": {},
   "outputs": [],
   "source": [
    "## search pores in the PDB"
   ]
  },
  {
   "cell_type": "code",
   "execution_count": 16,
   "metadata": {},
   "outputs": [
    {
     "name": "stdout",
     "output_type": "stream",
     "text": [
      "['1A0L', '1A5R', '1A87']\n",
      "['7AHL', '7PRN', '8PRN']\n"
     ]
    }
   ],
   "source": [
    "search_dict = make_query('pores')\n",
    "found_pdbs = do_search(search_dict)\n",
    "print(found_pdbs[:3])\n",
    "print(found_pdbs[-3:])"
   ]
  },
  {
   "cell_type": "code",
   "execution_count": 22,
   "metadata": {},
   "outputs": [
    {
     "name": "stdout",
     "output_type": "stream",
     "text": [
      "{'polymer': {'@entityNr': '1', '@length': '289', '@type': 'protein', '@weight': '30508.9', 'chain': {'@id': 'A'}, 'Taxonomy': {'@name': 'Rhodobacter blasticus', '@id': '1075'}, 'macroMolecule': {'@name': 'Porin', 'accession': {'@id': 'P39767'}}, 'polymerDescription': {'@description': 'PORIN'}, 'mutation': {'@desc': 'D97A, E99A'}}, 'id': '7PRN'}\n"
     ]
    },
    {
     "data": {
      "text/plain": [
       "{'citation_authors': 'Schmid, B., Maveyraud, L., Kromer, M., Schulz, G.E.',\n",
       " 'deposition_date': '1998-06-12',\n",
       " 'expMethod': 'X-RAY DIFFRACTION',\n",
       " 'keywords': 'MEMBRANE PROTEIN',\n",
       " 'last_modification_date': '2011-07-13',\n",
       " 'nr_atoms': '2177',\n",
       " 'nr_entities': '1',\n",
       " 'nr_residues': '289',\n",
       " 'pubmedCentralId': 'PMC2144057',\n",
       " 'pubmedId': '9684893',\n",
       " 'release_date': '1998-08-12',\n",
       " 'resolution': '2.25',\n",
       " 'status': 'CURRENT',\n",
       " 'structureId': '7PRN',\n",
       " 'structure_authors': 'Maveyraud, L., Schmid, B., Schulz, G.E.',\n",
       " 'title': 'E1M, D97A, E99A MUTANT OF RH. BLASTICA PORIN'}"
      ]
     },
     "execution_count": 22,
     "metadata": {},
     "output_type": "execute_result"
    }
   ],
   "source": [
    "all_info = get_all_info('7PRN')\n",
    "print(all_info)\n",
    "describe_pdb('7PRN')"
   ]
  },
  {
   "cell_type": "code",
   "execution_count": 61,
   "metadata": {},
   "outputs": [
    {
     "name": "stdout",
     "output_type": "stream",
     "text": [
      "HEADER    MEMBRANE PROTEIN                        12-JUN-98   7PRN              \n",
      "TITLE     E1M, D97A, E99A MUTANT OF RH. BLASTICA PORIN                          \n",
      "COMPND    MOL_ID: 1;                                                            \n",
      "COMPND   2 MOLECULE: PORIN;                                                     \n",
      "COMPND   3 CHAIN: A;                                                            \n",
      "COMPND   4 ENGINEERED: YES;                                                     \n",
      "COMPND   5 MUTATION: YES                                                        \n",
      "SOURCE    MOL_ID: 1;                                                            \n",
      "SOURCE   2 ORGANISM_SCIENTIFIC: RHODOBACTER BLASTICUS;                          \n",
      "SOURCE   3 ORGANISM_TAXID: 1075;                                                \n",
      "SOURCE   4 CELL_LINE: BL21;                                                     \n",
      "SOURCE   5 CELLULAR_LOCATION: OUTER MEMBRANE;                                   \n",
      "SOURCE   6 EXPRESSION_SYSTEM\n"
     ]
    }
   ],
   "source": [
    "#using pypdb get a file\n",
    "pdb_file =  get_pdb_file('7PRN', filetype='pdb')\n",
    "print(pdb_file[:1000])"
   ]
  },
  {
   "cell_type": "markdown",
   "metadata": {},
   "source": [
    "### View the structure via nglview package"
   ]
  },
  {
   "cell_type": "code",
   "execution_count": 13,
   "metadata": {},
   "outputs": [],
   "source": [
    "import nglview as nv"
   ]
  },
  {
   "cell_type": "code",
   "execution_count": 23,
   "metadata": {},
   "outputs": [
    {
     "data": {
      "application/vnd.jupyter.widget-view+json": {
       "model_id": "dc7c9f0fef794590ad08ec6f30aa7e44",
       "version_major": 2,
       "version_minor": 0
      },
      "text/plain": [
       "A Jupyter Widget"
      ]
     },
     "metadata": {},
     "output_type": "display_data"
    }
   ],
   "source": [
    "view = nv.show_pdbid(\"7PRN\")\n",
    "view"
   ]
  },
  {
   "cell_type": "markdown",
   "metadata": {},
   "source": [
    "### Parse PDB file using biopython (say get chain A)"
   ]
  },
  {
   "cell_type": "code",
   "execution_count": 58,
   "metadata": {},
   "outputs": [],
   "source": [
    "from Bio.PDB import PDBParser \n",
    "from Bio.PDB import MMCIFParser\n",
    "from Bio.PDB import *"
   ]
  },
  {
   "cell_type": "code",
   "execution_count": 62,
   "metadata": {},
   "outputs": [],
   "source": [
    "# create parser\n",
    "parser = PDBParser(PERMISSIVE=1)\n",
    "# parser = MMCIFParser()\n",
    "\n",
    "# read structure from file (TO DO: pass in pypdb object to bipython to parse? or maybe biopython can fetch by itself?)\n",
    "structure = parser.get_structure('ex', 'Hairpin_HBs_3_C6_0009_0001_0001.pdb')\n",
    "\n",
    "model = structure[0]\n",
    "chain = model['A']"
   ]
  },
  {
   "cell_type": "code",
   "execution_count": 101,
   "metadata": {},
   "outputs": [
    {
     "data": {
      "application/vnd.jupyter.widget-view+json": {
       "model_id": "9385838b2dff4d0795473880df6dc423",
       "version_major": 2,
       "version_minor": 0
      },
      "text/plain": [
       "A Jupyter Widget"
      ]
     },
     "metadata": {},
     "output_type": "display_data"
    }
   ],
   "source": [
    "view = nv.show_biopython(chain)\n",
    "view"
   ]
  },
  {
   "cell_type": "code",
   "execution_count": 85,
   "metadata": {},
   "outputs": [
    {
     "name": "stdout",
     "output_type": "stream",
     "text": [
      "Downloading PDB structure '7PRN'...\n"
     ]
    },
    {
     "data": {
      "text/plain": [
       "'./pdb7prn.ent'"
      ]
     },
     "execution_count": 85,
     "metadata": {},
     "output_type": "execute_result"
    }
   ],
   "source": [
    "# retrieve pdb from databank using bipython\n",
    "\n",
    "pdbl = PDBList()\n",
    "pdbl.retrieve_pdb_file('7PRN',file_format='pdb',pdir='.')"
   ]
  },
  {
   "cell_type": "code",
   "execution_count": 100,
   "metadata": {},
   "outputs": [
    {
     "name": "stdout",
     "output_type": "stream",
     "text": [
      "<generator object Chain.get_residues at 0x10d8948e0>\n"
     ]
    }
   ],
   "source": [
    "# parsing ideas \n",
    "# still working on this.\n",
    "\n",
    "#initiate parser\n",
    "p = PDBParser()\n",
    "triple_beta_b = p.get_structure('7prn','pdb7prn.ent')\n",
    "\n",
    "#iterate over entities\n",
    "for model in structure:\n",
    "    for chain in model:\n",
    "        for residue in chain:\n",
    "            #print (residue)\n",
    "            pass\n",
    "\n",
    "# #selection shortcuts     \n",
    "# res_list = Selection.unfold_entities(chain, 'R')\n",
    "# #print(res_list)\n",
    "\n",
    "# #method shortcuts\n",
    "# res_list = Selection.unfold_entities(structure, 'R')\n",
    "# residue_list = \n",
    "\n",
    "#reference : http://biopython.org/wiki/The_Biopython_Structural_Bioinformatics_FAQ"
   ]
  },
  {
   "cell_type": "code",
   "execution_count": 86,
   "metadata": {},
   "outputs": [
    {
     "name": "stdout",
     "output_type": "stream",
     "text": [
      "Demo Exploring Proteins (PyPDB+nglview+biopython).ipynb\n",
      "Demo Visualizing Proteins in Jupyter Notebook.ipynb\n",
      "Hairpin_HBs_3_C6_0009_0001_0001.pdb\n",
      "Hairpin_HBs_3_C6_0009_0001_0001A.pdb\n",
      "obsolete\n",
      "pdb7prn.ent\n",
      "show_rosetta.ipynb\n"
     ]
    }
   ],
   "source": [
    "%%bash\n",
    "ls"
   ]
  },
  {
   "cell_type": "code",
   "execution_count": null,
   "metadata": {},
   "outputs": [],
   "source": []
  }
 ],
 "metadata": {
  "kernelspec": {
   "display_name": "Python 3",
   "language": "python",
   "name": "python3"
  },
  "language_info": {
   "codemirror_mode": {
    "name": "ipython",
    "version": 3
   },
   "file_extension": ".py",
   "mimetype": "text/x-python",
   "name": "python",
   "nbconvert_exporter": "python",
   "pygments_lexer": "ipython3",
   "version": "3.6.3"
  },
  "widgets": {
   "application/vnd.jupyter.widget-state+json": {
    "state": {
     "02a3da3d839e4b389873a48a30792b04": {
      "model_module": "@jupyter-widgets/controls",
      "model_module_version": "1.0.0",
      "model_name": "ImageModel",
      "state": {
       "layout": "IPY_MODEL_4d96e5b1cc8e4dda9e608a5ead871ec5",
       "value": {},
       "width": "900.0"
      }
     },
     "0883e2c1e21e4a9c8d0a7a486253a662": {
      "model_module": "@jupyter-widgets/base",
      "model_module_version": "1.0.0",
      "model_name": "LayoutModel",
      "state": {}
     },
     "165147f7433d48348e1bbb363adb66e4": {
      "model_module": "nglview-js-widgets",
      "model_module_version": "0.5.4-dev.27",
      "model_name": "NGLModel",
      "state": {
       "_camera_orientation": [],
       "_camera_str": "orthographic",
       "_image_data": "",
       "_n_dragged_files": 0,
       "_ngl_coordinate_resource": {},
       "_ngl_full_stage_parameters": {},
       "_ngl_full_stage_parameters_embed": {},
       "_ngl_msg_archive": [],
       "_ngl_original_stage_parameters": {},
       "_ngl_repr_dict": {},
       "_ngl_serialize": false,
       "_ngl_version": "",
       "_scene_position": {},
       "_scene_rotation": {},
       "background": "white",
       "count": 1,
       "frame": 0,
       "layout": "IPY_MODEL_68693d54e6c74150b434a8bcf70ec9cc",
       "n_components": 0,
       "picked": {}
      }
     },
     "1818b0ecba05442b888c3ebd46e29890": {
      "model_module": "@jupyter-widgets/controls",
      "model_module_version": "1.0.0",
      "model_name": "ImageModel",
      "state": {
       "layout": "IPY_MODEL_b5d4ceec6b3943c69661fbe302e7417e",
       "value": {},
       "width": "900.0"
      }
     },
     "28739d429b894ea29f4c160ad870b0c4": {
      "model_module": "nglview-js-widgets",
      "model_module_version": "0.5.4-dev.27",
      "model_name": "NGLModel",
      "state": {
       "_camera_orientation": [],
       "_camera_str": "orthographic",
       "_image_data": "",
       "_n_dragged_files": 0,
       "_ngl_coordinate_resource": {},
       "_ngl_full_stage_parameters": {},
       "_ngl_full_stage_parameters_embed": {},
       "_ngl_msg_archive": [],
       "_ngl_original_stage_parameters": {},
       "_ngl_repr_dict": {},
       "_ngl_serialize": false,
       "_ngl_version": "",
       "_scene_position": {},
       "_scene_rotation": {},
       "background": "white",
       "count": 1,
       "frame": 0,
       "layout": "IPY_MODEL_5b7f32df60d04fc88f509705c3758081",
       "n_components": 0,
       "picked": {}
      }
     },
     "43638d4ae3eb425eac52fa8f71b4cdaa": {
      "model_module": "@jupyter-widgets/controls",
      "model_module_version": "1.0.0",
      "model_name": "ImageModel",
      "state": {
       "layout": "IPY_MODEL_46657f341ac14c2fa807130c4ce02d5e",
       "value": {},
       "width": "900.0"
      }
     },
     "438ed7516c054205b34115ccfbb32ab9": {
      "model_module": "@jupyter-widgets/base",
      "model_module_version": "1.0.0",
      "model_name": "LayoutModel",
      "state": {}
     },
     "46657f341ac14c2fa807130c4ce02d5e": {
      "model_module": "@jupyter-widgets/base",
      "model_module_version": "1.0.0",
      "model_name": "LayoutModel",
      "state": {}
     },
     "4d96e5b1cc8e4dda9e608a5ead871ec5": {
      "model_module": "@jupyter-widgets/base",
      "model_module_version": "1.0.0",
      "model_name": "LayoutModel",
      "state": {}
     },
     "510883d1b7744669953e4c6e7f373c5f": {
      "model_module": "@jupyter-widgets/base",
      "model_module_version": "1.0.0",
      "model_name": "LayoutModel",
      "state": {}
     },
     "5b7f32df60d04fc88f509705c3758081": {
      "model_module": "@jupyter-widgets/base",
      "model_module_version": "1.0.0",
      "model_name": "LayoutModel",
      "state": {}
     },
     "5e7eb85adf3b490aacbaa85cfcfb10db": {
      "model_module": "@jupyter-widgets/base",
      "model_module_version": "1.0.0",
      "model_name": "LayoutModel",
      "state": {}
     },
     "626753f0d8ea4b4ca5c06aa9f22d87f5": {
      "model_module": "@jupyter-widgets/controls",
      "model_module_version": "1.0.0",
      "model_name": "ImageModel",
      "state": {
       "layout": "IPY_MODEL_7336eb8b04ac436eb17e9347f8b8d38f",
       "value": {},
       "width": "900.0"
      }
     },
     "68693d54e6c74150b434a8bcf70ec9cc": {
      "model_module": "@jupyter-widgets/base",
      "model_module_version": "1.0.0",
      "model_name": "LayoutModel",
      "state": {}
     },
     "7336eb8b04ac436eb17e9347f8b8d38f": {
      "model_module": "@jupyter-widgets/base",
      "model_module_version": "1.0.0",
      "model_name": "LayoutModel",
      "state": {}
     },
     "7547e5d875984b408b49d7bf4574b160": {
      "model_module": "@jupyter-widgets/base",
      "model_module_version": "1.0.0",
      "model_name": "LayoutModel",
      "state": {}
     },
     "789075bc49794359b07b9d9ab32ad2ae": {
      "model_module": "@jupyter-widgets/controls",
      "model_module_version": "1.0.0",
      "model_name": "ImageModel",
      "state": {
       "layout": "IPY_MODEL_b65986d916c24498806bb9a53dc7f5dc",
       "value": {},
       "width": "900.0"
      }
     },
     "7f7d0b9988824ef99e284fcc5e03e4ce": {
      "model_module": "@jupyter-widgets/base",
      "model_module_version": "1.0.0",
      "model_name": "LayoutModel",
      "state": {}
     },
     "86ed1bb8451a44aa8bb2628694c52fce": {
      "model_module": "@jupyter-widgets/controls",
      "model_module_version": "1.0.0",
      "model_name": "ImageModel",
      "state": {
       "layout": "IPY_MODEL_f5ab4ddf0722488cadd66c35b94dc4b4",
       "value": {},
       "width": "900.0"
      }
     },
     "870dee5b5d864237bd6562d4790c2070": {
      "model_module": "@jupyter-widgets/base",
      "model_module_version": "1.0.0",
      "model_name": "LayoutModel",
      "state": {}
     },
     "8b0b2bfad5e84103b0857e2cd53a84ab": {
      "model_module": "nglview-js-widgets",
      "model_module_version": "0.5.4-dev.27",
      "model_name": "NGLModel",
      "state": {
       "_camera_orientation": [],
       "_camera_str": "orthographic",
       "_image_data": "",
       "_n_dragged_files": 0,
       "_ngl_coordinate_resource": {},
       "_ngl_full_stage_parameters": {},
       "_ngl_full_stage_parameters_embed": {},
       "_ngl_msg_archive": [],
       "_ngl_original_stage_parameters": {},
       "_ngl_repr_dict": {},
       "_ngl_serialize": false,
       "_ngl_version": "",
       "_scene_position": {},
       "_scene_rotation": {},
       "background": "white",
       "count": 1,
       "frame": 0,
       "layout": "IPY_MODEL_ef72d2d2aba045b6b3d7e26231a016eb",
       "n_components": 0,
       "picked": {}
      }
     },
     "92e0418f0ed04e9da87ae373d2967e28": {
      "model_module": "@jupyter-widgets/base",
      "model_module_version": "1.0.0",
      "model_name": "LayoutModel",
      "state": {}
     },
     "9385838b2dff4d0795473880df6dc423": {
      "model_module": "nglview-js-widgets",
      "model_module_version": "0.5.4-dev.27",
      "model_name": "NGLModel",
      "state": {
       "_camera_orientation": [
        -30.27285472568215,
        -84.04670477020977,
        3.4038996817659606,
        0,
        83.15815700808248,
        -30.448034791138987,
        -12.227794134400678,
        0,
        12.655277112471081,
        -0.9743939877550319,
        88.49166834555473,
        0,
        18.489014983177185,
        -15.84727144241333,
        -3.9671106338500977,
        1
       ],
       "_camera_str": "orthographic",
       "_image_data": "",
       "_n_dragged_files": 0,
       "_ngl_coordinate_resource": {},
       "_ngl_full_stage_parameters": {
        "ambientColor": 14540253,
        "ambientIntensity": 0.2,
        "backgroundColor": "white",
        "cameraFov": 40,
        "cameraType": "perspective",
        "clipDist": 10,
        "clipFar": 100,
        "clipNear": 0,
        "fogFar": 100,
        "fogNear": 50,
        "hoverTimeout": 0,
        "impostor": true,
        "lightColor": 14540253,
        "lightIntensity": 1,
        "mousePreset": "default",
        "panSpeed": 1,
        "quality": "medium",
        "rotateSpeed": 2,
        "sampleLevel": 0,
        "tooltip": true,
        "workerDefault": true,
        "zoomSpeed": 1.2
       },
       "_ngl_full_stage_parameters_embed": {},
       "_ngl_msg_archive": [],
       "_ngl_original_stage_parameters": {
        "ambientColor": 14540253,
        "ambientIntensity": 0.2,
        "backgroundColor": "white",
        "cameraFov": 40,
        "cameraType": "perspective",
        "clipDist": 10,
        "clipFar": 100,
        "clipNear": 0,
        "fogFar": 100,
        "fogNear": 50,
        "hoverTimeout": 0,
        "impostor": true,
        "lightColor": 14540253,
        "lightIntensity": 1,
        "mousePreset": "default",
        "panSpeed": 1,
        "quality": "medium",
        "rotateSpeed": 2,
        "sampleLevel": 0,
        "tooltip": true,
        "workerDefault": true,
        "zoomSpeed": 1.2
       },
       "_ngl_repr_dict": {
        "0": {
         "0": {
          "params": {
           "aspectRatio": 5,
           "assembly": "default",
           "capped": true,
           "clipCenter": {
            "x": 0,
            "y": 0,
            "z": 0
           },
           "clipNear": 0,
           "clipRadius": 0,
           "colorMode": "hcl",
           "colorReverse": true,
           "colorScale": "spectral",
           "colorScheme": "residueindex",
           "colorValue": 9474192,
           "defaultAssembly": "",
           "depthWrite": true,
           "diffuse": 16777215,
           "disablePicking": false,
           "flatShaded": false,
           "lazy": false,
           "matrix": {
            "elements": [
             1,
             0,
             0,
             0,
             0,
             1,
             0,
             0,
             0,
             0,
             1,
             0,
             0,
             0,
             0,
             1
            ]
           },
           "metalness": 0,
           "opacity": 1,
           "quality": "high",
           "radialSegments": 20,
           "radius": "sstruc",
           "roughness": 0.4,
           "scale": 0.7,
           "sele": "",
           "side": "double",
           "smoothSheet": false,
           "subdiv": 6,
           "tension": null,
           "visible": true,
           "wireframe": false
          },
          "type": "cartoon"
         },
         "1": {
          "params": {
           "aspectRatio": 1,
           "assembly": "default",
           "bondScale": 0.4,
           "clipCenter": {
            "x": 0,
            "y": 0,
            "z": 0
           },
           "clipNear": 0,
           "clipRadius": 0,
           "colorMode": "hcl",
           "colorReverse": true,
           "colorScale": "spectral",
           "colorScheme": "residueindex",
           "colorValue": 9474192,
           "cylinderOnly": false,
           "defaultAssembly": "",
           "depthWrite": true,
           "diffuse": 16777215,
           "disableImpostor": false,
           "disablePicking": false,
           "flatShaded": false,
           "lazy": false,
           "lineOnly": false,
           "linewidth": 2,
           "matrix": {
            "elements": [
             1,
             0,
             0,
             0,
             0,
             1,
             0,
             0,
             0,
             0,
             1,
             0,
             0,
             0,
             0,
             1
            ]
           },
           "metalness": 0,
           "opacity": 1,
           "openEnded": true,
           "quality": "high",
           "radialSegments": 20,
           "radius": 0.3,
           "roughness": 0.4,
           "scale": 1,
           "sele": "",
           "side": "double",
           "sphereDetail": 2,
           "visible": true,
           "wireframe": false
          },
          "type": "base"
         },
         "2": {
          "params": {
           "aspectRatio": 1.5,
           "assembly": "default",
           "bondScale": 0.3,
           "bondSpacing": 0.75,
           "clipCenter": {
            "x": 0,
            "y": 0,
            "z": 0
           },
           "clipNear": 0,
           "clipRadius": 0,
           "colorMode": "hcl",
           "colorReverse": false,
           "colorScale": "",
           "colorScheme": "element",
           "colorValue": 9474192,
           "cylinderOnly": false,
           "defaultAssembly": "",
           "depthWrite": true,
           "diffuse": 16777215,
           "disableImpostor": false,
           "disablePicking": false,
           "flatShaded": false,
           "lazy": false,
           "lineOnly": false,
           "linewidth": 2,
           "matrix": {
            "elements": [
             1,
             0,
             0,
             0,
             0,
             1,
             0,
             0,
             0,
             0,
             1,
             0,
             0,
             0,
             0,
             1
            ]
           },
           "metalness": 0,
           "multipleBond": "off",
           "opacity": 1,
           "openEnded": true,
           "quality": "high",
           "radialSegments": 20,
           "radius": 0.15,
           "roughness": 0.4,
           "scale": 2,
           "sele": "ligand",
           "side": "double",
           "sphereDetail": 2,
           "visible": true,
           "wireframe": false
          },
          "type": "ball+stick"
         }
        }
       },
       "_ngl_serialize": false,
       "_ngl_version": "1.0.0-beta.4",
       "_scene_position": {},
       "_scene_rotation": {},
       "background": "white",
       "count": 1,
       "frame": 0,
       "layout": "IPY_MODEL_92e0418f0ed04e9da87ae373d2967e28",
       "n_components": 1,
       "picked": {}
      }
     },
     "a92c4eac61a641749a43cce160a13bfe": {
      "model_module": "nglview-js-widgets",
      "model_module_version": "0.5.4-dev.27",
      "model_name": "NGLModel",
      "state": {
       "_camera_orientation": [
        81.54847333638396,
        -31.654055918604822,
        -75.16671614441138,
        0,
        80.99201396739834,
        43.9506851960794,
        69.35992300909305,
        0,
        9.607712815095171,
        -101.8259593140382,
        53.304163437442725,
        0,
        -0.7164468765258789,
        -23.962252140045166,
        -3.9671201705932617,
        1
       ],
       "_camera_str": "orthographic",
       "_image_data": "",
       "_n_dragged_files": 0,
       "_ngl_coordinate_resource": {},
       "_ngl_full_stage_parameters": {
        "ambientColor": 14540253,
        "ambientIntensity": 0.2,
        "backgroundColor": "white",
        "cameraFov": 40,
        "cameraType": "perspective",
        "clipDist": 10,
        "clipFar": 100,
        "clipNear": 0,
        "fogFar": 100,
        "fogNear": 50,
        "hoverTimeout": 0,
        "impostor": true,
        "lightColor": 14540253,
        "lightIntensity": 1,
        "mousePreset": "default",
        "panSpeed": 1,
        "quality": "medium",
        "rotateSpeed": 2,
        "sampleLevel": 0,
        "tooltip": true,
        "workerDefault": true,
        "zoomSpeed": 1.2
       },
       "_ngl_full_stage_parameters_embed": {},
       "_ngl_msg_archive": [],
       "_ngl_original_stage_parameters": {
        "ambientColor": 14540253,
        "ambientIntensity": 0.2,
        "backgroundColor": "white",
        "cameraFov": 40,
        "cameraType": "perspective",
        "clipDist": 10,
        "clipFar": 100,
        "clipNear": 0,
        "fogFar": 100,
        "fogNear": 50,
        "hoverTimeout": 0,
        "impostor": true,
        "lightColor": 14540253,
        "lightIntensity": 1,
        "mousePreset": "default",
        "panSpeed": 1,
        "quality": "medium",
        "rotateSpeed": 2,
        "sampleLevel": 0,
        "tooltip": true,
        "workerDefault": true,
        "zoomSpeed": 1.2
       },
       "_ngl_repr_dict": {
        "0": {
         "0": {
          "params": {
           "aspectRatio": 5,
           "assembly": "default",
           "capped": true,
           "clipCenter": {
            "x": 0,
            "y": 0,
            "z": 0
           },
           "clipNear": 0,
           "clipRadius": 0,
           "colorMode": "hcl",
           "colorReverse": true,
           "colorScale": "spectral",
           "colorScheme": "residueindex",
           "colorValue": 9474192,
           "defaultAssembly": "",
           "depthWrite": true,
           "diffuse": 16777215,
           "disablePicking": false,
           "flatShaded": false,
           "lazy": false,
           "matrix": {
            "elements": [
             1,
             0,
             0,
             0,
             0,
             1,
             0,
             0,
             0,
             0,
             1,
             0,
             0,
             0,
             0,
             1
            ]
           },
           "metalness": 0,
           "opacity": 1,
           "quality": "high",
           "radialSegments": 20,
           "radius": "sstruc",
           "roughness": 0.4,
           "scale": 0.7,
           "sele": "",
           "side": "double",
           "smoothSheet": false,
           "subdiv": 6,
           "tension": null,
           "visible": true,
           "wireframe": false
          },
          "type": "cartoon"
         },
         "1": {
          "params": {
           "aspectRatio": 1,
           "assembly": "default",
           "bondScale": 0.4,
           "clipCenter": {
            "x": 0,
            "y": 0,
            "z": 0
           },
           "clipNear": 0,
           "clipRadius": 0,
           "colorMode": "hcl",
           "colorReverse": true,
           "colorScale": "spectral",
           "colorScheme": "residueindex",
           "colorValue": 9474192,
           "cylinderOnly": false,
           "defaultAssembly": "",
           "depthWrite": true,
           "diffuse": 16777215,
           "disableImpostor": false,
           "disablePicking": false,
           "flatShaded": false,
           "lazy": false,
           "lineOnly": false,
           "linewidth": 2,
           "matrix": {
            "elements": [
             1,
             0,
             0,
             0,
             0,
             1,
             0,
             0,
             0,
             0,
             1,
             0,
             0,
             0,
             0,
             1
            ]
           },
           "metalness": 0,
           "opacity": 1,
           "openEnded": true,
           "quality": "high",
           "radialSegments": 20,
           "radius": 0.3,
           "roughness": 0.4,
           "scale": 1,
           "sele": "",
           "side": "double",
           "sphereDetail": 2,
           "visible": true,
           "wireframe": false
          },
          "type": "base"
         },
         "2": {
          "params": {
           "aspectRatio": 1.5,
           "assembly": "default",
           "bondScale": 0.3,
           "bondSpacing": 0.75,
           "clipCenter": {
            "x": 0,
            "y": 0,
            "z": 0
           },
           "clipNear": 0,
           "clipRadius": 0,
           "colorMode": "hcl",
           "colorReverse": false,
           "colorScale": "",
           "colorScheme": "element",
           "colorValue": 9474192,
           "cylinderOnly": false,
           "defaultAssembly": "",
           "depthWrite": true,
           "diffuse": 16777215,
           "disableImpostor": false,
           "disablePicking": false,
           "flatShaded": false,
           "lazy": false,
           "lineOnly": false,
           "linewidth": 2,
           "matrix": {
            "elements": [
             1,
             0,
             0,
             0,
             0,
             1,
             0,
             0,
             0,
             0,
             1,
             0,
             0,
             0,
             0,
             1
            ]
           },
           "metalness": 0,
           "multipleBond": "off",
           "opacity": 1,
           "openEnded": true,
           "quality": "high",
           "radialSegments": 20,
           "radius": 0.15,
           "roughness": 0.4,
           "scale": 2,
           "sele": "ligand",
           "side": "double",
           "sphereDetail": 2,
           "visible": true,
           "wireframe": false
          },
          "type": "ball+stick"
         }
        }
       },
       "_ngl_serialize": false,
       "_ngl_version": "1.0.0-beta.4",
       "_scene_position": {},
       "_scene_rotation": {},
       "background": "white",
       "count": 1,
       "frame": 0,
       "layout": "IPY_MODEL_7547e5d875984b408b49d7bf4574b160",
       "n_components": 1,
       "picked": {}
      }
     },
     "ae6f7884585b402c9c0722ca8c005792": {
      "model_module": "@jupyter-widgets/base",
      "model_module_version": "1.0.0",
      "model_name": "LayoutModel",
      "state": {}
     },
     "b5d4ceec6b3943c69661fbe302e7417e": {
      "model_module": "@jupyter-widgets/base",
      "model_module_version": "1.0.0",
      "model_name": "LayoutModel",
      "state": {}
     },
     "b65986d916c24498806bb9a53dc7f5dc": {
      "model_module": "@jupyter-widgets/base",
      "model_module_version": "1.0.0",
      "model_name": "LayoutModel",
      "state": {}
     },
     "be387f1e6f374c328111e6d4719d5453": {
      "model_module": "@jupyter-widgets/controls",
      "model_module_version": "1.0.0",
      "model_name": "ImageModel",
      "state": {
       "layout": "IPY_MODEL_7f7d0b9988824ef99e284fcc5e03e4ce",
       "value": {},
       "width": "900.0"
      }
     },
     "be975c5dd8c54208b0989428edb869dd": {
      "model_module": "nglview-js-widgets",
      "model_module_version": "0.5.4-dev.27",
      "model_name": "NGLModel",
      "state": {
       "_camera_orientation": [
        -0.02860462432619362,
        0.04484954307147414,
        0.03710254878758149,
        0,
        0.018600490396927894,
        -0.032129925633815525,
        0.05317889439295254,
        0,
        0.05515525720408413,
        0.03409533015154732,
        0.0013081428461244632,
        0,
        -0.7164468765258789,
        -23.962252140045166,
        -3.9671201705932617,
        1
       ],
       "_camera_str": "orthographic",
       "_image_data": "",
       "_n_dragged_files": 0,
       "_ngl_coordinate_resource": {},
       "_ngl_full_stage_parameters": {
        "ambientColor": 14540253,
        "ambientIntensity": 0.2,
        "backgroundColor": "white",
        "cameraFov": 40,
        "cameraType": "perspective",
        "clipDist": 10,
        "clipFar": 100,
        "clipNear": 0,
        "fogFar": 100,
        "fogNear": 50,
        "hoverTimeout": 0,
        "impostor": true,
        "lightColor": 14540253,
        "lightIntensity": 1,
        "mousePreset": "default",
        "panSpeed": 1,
        "quality": "medium",
        "rotateSpeed": 2,
        "sampleLevel": 0,
        "tooltip": true,
        "workerDefault": true,
        "zoomSpeed": 1.2
       },
       "_ngl_full_stage_parameters_embed": {},
       "_ngl_msg_archive": [],
       "_ngl_original_stage_parameters": {
        "ambientColor": 14540253,
        "ambientIntensity": 0.2,
        "backgroundColor": "white",
        "cameraFov": 40,
        "cameraType": "perspective",
        "clipDist": 10,
        "clipFar": 100,
        "clipNear": 0,
        "fogFar": 100,
        "fogNear": 50,
        "hoverTimeout": 0,
        "impostor": true,
        "lightColor": 14540253,
        "lightIntensity": 1,
        "mousePreset": "default",
        "panSpeed": 1,
        "quality": "medium",
        "rotateSpeed": 2,
        "sampleLevel": 0,
        "tooltip": true,
        "workerDefault": true,
        "zoomSpeed": 1.2
       },
       "_ngl_repr_dict": {
        "0": {
         "0": {
          "params": {
           "aspectRatio": 5,
           "assembly": "default",
           "capped": true,
           "clipCenter": {
            "x": 0,
            "y": 0,
            "z": 0
           },
           "clipNear": 0,
           "clipRadius": 0,
           "colorMode": "hcl",
           "colorReverse": true,
           "colorScale": "spectral",
           "colorScheme": "residueindex",
           "colorValue": 9474192,
           "defaultAssembly": "",
           "depthWrite": true,
           "diffuse": 16777215,
           "disablePicking": false,
           "flatShaded": false,
           "lazy": false,
           "matrix": {
            "elements": [
             1,
             0,
             0,
             0,
             0,
             1,
             0,
             0,
             0,
             0,
             1,
             0,
             0,
             0,
             0,
             1
            ]
           },
           "metalness": 0,
           "opacity": 1,
           "quality": "high",
           "radialSegments": 20,
           "radius": "sstruc",
           "roughness": 0.4,
           "scale": 0.7,
           "sele": "",
           "side": "double",
           "smoothSheet": false,
           "subdiv": 6,
           "tension": null,
           "visible": true,
           "wireframe": false
          },
          "type": "cartoon"
         },
         "1": {
          "params": {
           "aspectRatio": 1,
           "assembly": "default",
           "bondScale": 0.4,
           "clipCenter": {
            "x": 0,
            "y": 0,
            "z": 0
           },
           "clipNear": 0,
           "clipRadius": 0,
           "colorMode": "hcl",
           "colorReverse": true,
           "colorScale": "spectral",
           "colorScheme": "residueindex",
           "colorValue": 9474192,
           "cylinderOnly": false,
           "defaultAssembly": "",
           "depthWrite": true,
           "diffuse": 16777215,
           "disableImpostor": false,
           "disablePicking": false,
           "flatShaded": false,
           "lazy": false,
           "lineOnly": false,
           "linewidth": 2,
           "matrix": {
            "elements": [
             1,
             0,
             0,
             0,
             0,
             1,
             0,
             0,
             0,
             0,
             1,
             0,
             0,
             0,
             0,
             1
            ]
           },
           "metalness": 0,
           "opacity": 1,
           "openEnded": true,
           "quality": "high",
           "radialSegments": 20,
           "radius": 0.3,
           "roughness": 0.4,
           "scale": 1,
           "sele": "",
           "side": "double",
           "sphereDetail": 2,
           "visible": true,
           "wireframe": false
          },
          "type": "base"
         },
         "2": {
          "params": {
           "aspectRatio": 1.5,
           "assembly": "default",
           "bondScale": 0.3,
           "bondSpacing": 0.75,
           "clipCenter": {
            "x": 0,
            "y": 0,
            "z": 0
           },
           "clipNear": 0,
           "clipRadius": 0,
           "colorMode": "hcl",
           "colorReverse": false,
           "colorScale": "",
           "colorScheme": "element",
           "colorValue": 9474192,
           "cylinderOnly": false,
           "defaultAssembly": "",
           "depthWrite": true,
           "diffuse": 16777215,
           "disableImpostor": false,
           "disablePicking": false,
           "flatShaded": false,
           "lazy": false,
           "lineOnly": false,
           "linewidth": 2,
           "matrix": {
            "elements": [
             1,
             0,
             0,
             0,
             0,
             1,
             0,
             0,
             0,
             0,
             1,
             0,
             0,
             0,
             0,
             1
            ]
           },
           "metalness": 0,
           "multipleBond": "off",
           "opacity": 1,
           "openEnded": true,
           "quality": "high",
           "radialSegments": 20,
           "radius": 0.15,
           "roughness": 0.4,
           "scale": 2,
           "sele": "ligand",
           "side": "double",
           "sphereDetail": 2,
           "visible": true,
           "wireframe": false
          },
          "type": "ball+stick"
         }
        }
       },
       "_ngl_serialize": false,
       "_ngl_version": "1.0.0-beta.4",
       "_scene_position": {},
       "_scene_rotation": {},
       "background": "white",
       "count": 1,
       "frame": 0,
       "layout": "IPY_MODEL_438ed7516c054205b34115ccfbb32ab9",
       "n_components": 1,
       "picked": {
        "atom": {
         "altloc": "",
         "atomname": "CA",
         "bfactor": 1,
         "chainname": "A",
         "covalent": 0.76,
         "element": "C",
         "hetero": 0,
         "index": 2335,
         "residueIndex": 180,
         "resname": "LEU",
         "resno": 181,
         "serial": 2336,
         "vdw": 1.7,
         "x": 5.958000183105469,
         "y": 32.51599884033203,
         "z": 17.76300048828125
        }
       }
      }
     },
     "c7b3f82b211e40d799e7dea7ecf74000": {
      "model_module": "@jupyter-widgets/controls",
      "model_module_version": "1.0.0",
      "model_name": "ImageModel",
      "state": {
       "layout": "IPY_MODEL_870dee5b5d864237bd6562d4790c2070",
       "value": {},
       "width": "900.0"
      }
     },
     "d4bc284e47b445208c2811535f1e228c": {
      "model_module": "nglview-js-widgets",
      "model_module_version": "0.5.4-dev.27",
      "model_name": "NGLModel",
      "state": {
       "_camera_orientation": [
        113.30562637370069,
        11.72572373701825,
        -9.036589596602912,
        0,
        -12.508420270393279,
        38.523994664230585,
        -106.8492338488238,
        0,
        -7.917826155803209,
        106.93795750146215,
        39.48289238408223,
        0,
        -9.870940208435059,
        -13.468504905700684,
        -39.70404624938965,
        1
       ],
       "_camera_str": "orthographic",
       "_image_data": "",
       "_n_dragged_files": 0,
       "_ngl_coordinate_resource": {},
       "_ngl_full_stage_parameters": {
        "ambientColor": 14540253,
        "ambientIntensity": 0.2,
        "backgroundColor": "white",
        "cameraFov": 40,
        "cameraType": "perspective",
        "clipDist": 10,
        "clipFar": 100,
        "clipNear": 0,
        "fogFar": 100,
        "fogNear": 50,
        "hoverTimeout": 0,
        "impostor": true,
        "lightColor": 14540253,
        "lightIntensity": 1,
        "mousePreset": "default",
        "panSpeed": 1,
        "quality": "medium",
        "rotateSpeed": 2,
        "sampleLevel": 0,
        "tooltip": true,
        "workerDefault": true,
        "zoomSpeed": 1.2
       },
       "_ngl_full_stage_parameters_embed": {},
       "_ngl_msg_archive": [],
       "_ngl_original_stage_parameters": {
        "ambientColor": 14540253,
        "ambientIntensity": 0.2,
        "backgroundColor": "white",
        "cameraFov": 40,
        "cameraType": "perspective",
        "clipDist": 10,
        "clipFar": 100,
        "clipNear": 0,
        "fogFar": 100,
        "fogNear": 50,
        "hoverTimeout": 0,
        "impostor": true,
        "lightColor": 14540253,
        "lightIntensity": 1,
        "mousePreset": "default",
        "panSpeed": 1,
        "quality": "medium",
        "rotateSpeed": 2,
        "sampleLevel": 0,
        "tooltip": true,
        "workerDefault": true,
        "zoomSpeed": 1.2
       },
       "_ngl_repr_dict": {
        "0": {
         "0": {
          "params": {
           "aspectRatio": 5,
           "assembly": "default",
           "capped": true,
           "clipCenter": {
            "x": 0,
            "y": 0,
            "z": 0
           },
           "clipNear": 0,
           "clipRadius": 0,
           "colorMode": "hcl",
           "colorReverse": false,
           "colorScale": "RdYlBu",
           "colorScheme": "chainname",
           "colorValue": 9474192,
           "defaultAssembly": "BU1",
           "depthWrite": true,
           "diffuse": 16777215,
           "disablePicking": false,
           "flatShaded": false,
           "lazy": false,
           "matrix": {
            "elements": [
             1,
             0,
             0,
             0,
             0,
             1,
             0,
             0,
             0,
             0,
             1,
             0,
             0,
             0,
             0,
             1
            ]
           },
           "metalness": 0,
           "opacity": 1,
           "quality": "high",
           "radialSegments": 20,
           "radius": "sstruc",
           "roughness": 0.4,
           "scale": 0.7,
           "sele": "",
           "side": "double",
           "smoothSheet": false,
           "subdiv": 6,
           "tension": null,
           "visible": true,
           "wireframe": false
          },
          "type": "cartoon"
         },
         "1": {
          "params": {
           "aspectRatio": 1,
           "assembly": "default",
           "bondScale": 0.4,
           "clipCenter": {
            "x": 0,
            "y": 0,
            "z": 0
           },
           "clipNear": 0,
           "clipRadius": 0,
           "colorMode": "hcl",
           "colorReverse": false,
           "colorScale": "RdYlBu",
           "colorScheme": "chainname",
           "colorValue": 9474192,
           "cylinderOnly": false,
           "defaultAssembly": "BU1",
           "depthWrite": true,
           "diffuse": 16777215,
           "disableImpostor": false,
           "disablePicking": false,
           "flatShaded": false,
           "lazy": false,
           "lineOnly": false,
           "linewidth": 2,
           "matrix": {
            "elements": [
             1,
             0,
             0,
             0,
             0,
             1,
             0,
             0,
             0,
             0,
             1,
             0,
             0,
             0,
             0,
             1
            ]
           },
           "metalness": 0,
           "opacity": 1,
           "openEnded": true,
           "quality": "high",
           "radialSegments": 20,
           "radius": 0.3,
           "roughness": 0.4,
           "scale": 1,
           "sele": "",
           "side": "double",
           "sphereDetail": 2,
           "visible": true,
           "wireframe": false
          },
          "type": "base"
         },
         "2": {
          "params": {
           "aspectRatio": 1.5,
           "assembly": "default",
           "bondScale": 0.3,
           "bondSpacing": 0.75,
           "clipCenter": {
            "x": 0,
            "y": 0,
            "z": 0
           },
           "clipNear": 0,
           "clipRadius": 0,
           "colorMode": "hcl",
           "colorReverse": false,
           "colorScale": "",
           "colorScheme": "element",
           "colorValue": 9474192,
           "cylinderOnly": false,
           "defaultAssembly": "BU1",
           "depthWrite": true,
           "diffuse": 16777215,
           "disableImpostor": false,
           "disablePicking": false,
           "flatShaded": false,
           "lazy": false,
           "lineOnly": false,
           "linewidth": 2,
           "matrix": {
            "elements": [
             1,
             0,
             0,
             0,
             0,
             1,
             0,
             0,
             0,
             0,
             1,
             0,
             0,
             0,
             0,
             1
            ]
           },
           "metalness": 0,
           "multipleBond": "off",
           "opacity": 1,
           "openEnded": true,
           "quality": "high",
           "radialSegments": 20,
           "radius": 0.15,
           "roughness": 0.4,
           "scale": 2,
           "sele": "ligand",
           "side": "double",
           "sphereDetail": 2,
           "visible": true,
           "wireframe": false
          },
          "type": "ball+stick"
         }
        }
       },
       "_ngl_serialize": false,
       "_ngl_version": "1.0.0-beta.4",
       "_scene_position": {},
       "_scene_rotation": {},
       "background": "white",
       "count": 1,
       "frame": 0,
       "layout": "IPY_MODEL_ae6f7884585b402c9c0722ca8c005792",
       "n_components": 1,
       "picked": {}
      }
     },
     "d79d6a682b904628a4c13dd6b4150e81": {
      "model_module": "nglview-js-widgets",
      "model_module_version": "0.5.4-dev.27",
      "model_name": "NGLModel",
      "state": {
       "_camera_orientation": [],
       "_camera_str": "orthographic",
       "_image_data": "",
       "_n_dragged_files": 0,
       "_ngl_coordinate_resource": {},
       "_ngl_full_stage_parameters": {},
       "_ngl_full_stage_parameters_embed": {},
       "_ngl_msg_archive": [],
       "_ngl_original_stage_parameters": {},
       "_ngl_repr_dict": {},
       "_ngl_serialize": false,
       "_ngl_version": "",
       "_scene_position": {},
       "_scene_rotation": {},
       "background": "white",
       "count": 1,
       "frame": 0,
       "layout": "IPY_MODEL_0883e2c1e21e4a9c8d0a7a486253a662",
       "n_components": 0,
       "picked": {}
      }
     },
     "dc7c9f0fef794590ad08ec6f30aa7e44": {
      "model_module": "nglview-js-widgets",
      "model_module_version": "0.5.4-dev.27",
      "model_name": "NGLModel",
      "state": {
       "_camera_orientation": [
        92.62090050234993,
        21.70502733004755,
        45.64436564711707,
        0,
        -48.92905138628845,
        62.38824156780443,
        69.61898290773362,
        0,
        -12.667448723550677,
        -82.27847008343835,
        64.83005969576963,
        0,
        1.785130500793457,
        -61.484722683,
        -35.5525803565979,
        1
       ],
       "_camera_str": "orthographic",
       "_image_data": "",
       "_n_dragged_files": 0,
       "_ngl_coordinate_resource": {},
       "_ngl_full_stage_parameters": {
        "ambientColor": 14540253,
        "ambientIntensity": 0.2,
        "backgroundColor": "white",
        "cameraFov": 40,
        "cameraType": "perspective",
        "clipDist": 10,
        "clipFar": 100,
        "clipNear": 0,
        "fogFar": 100,
        "fogNear": 50,
        "hoverTimeout": 0,
        "impostor": true,
        "lightColor": 14540253,
        "lightIntensity": 1,
        "mousePreset": "default",
        "panSpeed": 1,
        "quality": "medium",
        "rotateSpeed": 2,
        "sampleLevel": 0,
        "tooltip": true,
        "workerDefault": true,
        "zoomSpeed": 1.2
       },
       "_ngl_full_stage_parameters_embed": {},
       "_ngl_msg_archive": [],
       "_ngl_original_stage_parameters": {
        "ambientColor": 14540253,
        "ambientIntensity": 0.2,
        "backgroundColor": "white",
        "cameraFov": 40,
        "cameraType": "perspective",
        "clipDist": 10,
        "clipFar": 100,
        "clipNear": 0,
        "fogFar": 100,
        "fogNear": 50,
        "hoverTimeout": 0,
        "impostor": true,
        "lightColor": 14540253,
        "lightIntensity": 1,
        "mousePreset": "default",
        "panSpeed": 1,
        "quality": "medium",
        "rotateSpeed": 2,
        "sampleLevel": 0,
        "tooltip": true,
        "workerDefault": true,
        "zoomSpeed": 1.2
       },
       "_ngl_repr_dict": {
        "0": {
         "0": {
          "params": {
           "aspectRatio": 5,
           "assembly": "default",
           "capped": true,
           "clipCenter": {
            "x": 0,
            "y": 0,
            "z": 0
           },
           "clipNear": 0,
           "clipRadius": 0,
           "colorMode": "hcl",
           "colorReverse": true,
           "colorScale": "spectral",
           "colorScheme": "residueindex",
           "colorValue": 9474192,
           "defaultAssembly": "BU1",
           "depthWrite": true,
           "diffuse": 16777215,
           "disablePicking": false,
           "flatShaded": false,
           "lazy": false,
           "matrix": {
            "elements": [
             1,
             0,
             0,
             0,
             0,
             1,
             0,
             0,
             0,
             0,
             1,
             0,
             0,
             0,
             0,
             1
            ]
           },
           "metalness": 0,
           "opacity": 1,
           "quality": "high",
           "radialSegments": 20,
           "radius": "sstruc",
           "roughness": 0.4,
           "scale": 0.7,
           "sele": "",
           "side": "double",
           "smoothSheet": false,
           "subdiv": 6,
           "tension": null,
           "visible": true,
           "wireframe": false
          },
          "type": "cartoon"
         },
         "1": {
          "params": {
           "aspectRatio": 1,
           "assembly": "default",
           "bondScale": 0.4,
           "clipCenter": {
            "x": 0,
            "y": 0,
            "z": 0
           },
           "clipNear": 0,
           "clipRadius": 0,
           "colorMode": "hcl",
           "colorReverse": true,
           "colorScale": "spectral",
           "colorScheme": "residueindex",
           "colorValue": 9474192,
           "cylinderOnly": false,
           "defaultAssembly": "BU1",
           "depthWrite": true,
           "diffuse": 16777215,
           "disableImpostor": false,
           "disablePicking": false,
           "flatShaded": false,
           "lazy": false,
           "lineOnly": false,
           "linewidth": 2,
           "matrix": {
            "elements": [
             1,
             0,
             0,
             0,
             0,
             1,
             0,
             0,
             0,
             0,
             1,
             0,
             0,
             0,
             0,
             1
            ]
           },
           "metalness": 0,
           "opacity": 1,
           "openEnded": true,
           "quality": "high",
           "radialSegments": 20,
           "radius": 0.3,
           "roughness": 0.4,
           "scale": 1,
           "sele": "",
           "side": "double",
           "sphereDetail": 2,
           "visible": true,
           "wireframe": false
          },
          "type": "base"
         },
         "2": {
          "params": {
           "aspectRatio": 1.5,
           "assembly": "default",
           "bondScale": 0.3,
           "bondSpacing": 0.75,
           "clipCenter": {
            "x": 0,
            "y": 0,
            "z": 0
           },
           "clipNear": 0,
           "clipRadius": 0,
           "colorMode": "hcl",
           "colorReverse": false,
           "colorScale": "",
           "colorScheme": "element",
           "colorValue": 9474192,
           "cylinderOnly": false,
           "defaultAssembly": "BU1",
           "depthWrite": true,
           "diffuse": 16777215,
           "disableImpostor": false,
           "disablePicking": false,
           "flatShaded": false,
           "lazy": false,
           "lineOnly": false,
           "linewidth": 2,
           "matrix": {
            "elements": [
             1,
             0,
             0,
             0,
             0,
             1,
             0,
             0,
             0,
             0,
             1,
             0,
             0,
             0,
             0,
             1
            ]
           },
           "metalness": 0,
           "multipleBond": "off",
           "opacity": 1,
           "openEnded": true,
           "quality": "high",
           "radialSegments": 20,
           "radius": 0.15,
           "roughness": 0.4,
           "scale": 2,
           "sele": "ligand",
           "side": "double",
           "sphereDetail": 2,
           "visible": true,
           "wireframe": false
          },
          "type": "ball+stick"
         }
        }
       },
       "_ngl_serialize": false,
       "_ngl_version": "1.0.0-beta.4",
       "_scene_position": {},
       "_scene_rotation": {},
       "background": "white",
       "count": 1,
       "frame": 0,
       "layout": "IPY_MODEL_5e7eb85adf3b490aacbaa85cfcfb10db",
       "n_components": 1,
       "picked": {}
      }
     },
     "ef72d2d2aba045b6b3d7e26231a016eb": {
      "model_module": "@jupyter-widgets/base",
      "model_module_version": "1.0.0",
      "model_name": "LayoutModel",
      "state": {}
     },
     "f5ab4ddf0722488cadd66c35b94dc4b4": {
      "model_module": "@jupyter-widgets/base",
      "model_module_version": "1.0.0",
      "model_name": "LayoutModel",
      "state": {}
     },
     "fb48c7eba3254103b3b1583a35bc3f09": {
      "model_module": "@jupyter-widgets/controls",
      "model_module_version": "1.0.0",
      "model_name": "ImageModel",
      "state": {
       "layout": "IPY_MODEL_510883d1b7744669953e4c6e7f373c5f",
       "value": {},
       "width": "900.0"
      }
     }
    },
    "version_major": 2,
    "version_minor": 0
   }
  }
 },
 "nbformat": 4,
 "nbformat_minor": 2
}
