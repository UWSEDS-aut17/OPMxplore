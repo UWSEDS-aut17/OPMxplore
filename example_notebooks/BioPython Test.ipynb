{
 "cells": [
  {
   "cell_type": "code",
   "execution_count": 1,
   "metadata": {
    "collapsed": true
   },
   "outputs": [],
   "source": [
    "from Bio import SeqIO\n",
    "import os"
   ]
  },
  {
   "cell_type": "code",
   "execution_count": 5,
   "metadata": {},
   "outputs": [
    {
     "name": "stdout",
     "output_type": "stream",
     "text": [
      "C:\\Users\\T420\\Google Drive\\UW Classes\\CSE583\\projects\\uwseds-group-pdb-search-and-analysis\\data\\BacA.fasta\n"
     ]
    }
   ],
   "source": [
    "filepath=os.path.dirname(os.getcwd())+\"\\\\data\\\\BacA.fasta\"\n",
    "print(filepath)"
   ]
  },
  {
   "cell_type": "code",
   "execution_count": 6,
   "metadata": {},
   "outputs": [
    {
     "name": "stdout",
     "output_type": "stream",
     "text": [
      "gi|2982194|gb|AAC06346.1|\n",
      "Seq('MVAKHSLENGVFHKMTENEKELILHFNNTKTDYPKNKTLHELFEEQAMKTPDHT...EEV', SingleLetterAlphabet())\n",
      "5255\n"
     ]
    }
   ],
   "source": [
    "for seq_record in SeqIO.parse(filepath, \"fasta\"):\n",
    "    print(seq_record.id)\n",
    "    print(repr(seq_record.seq))\n",
    "    print(len(seq_record))"
   ]
  },
  {
   "cell_type": "code",
   "execution_count": null,
   "metadata": {
    "collapsed": true
   },
   "outputs": [],
   "source": []
  }
 ],
 "metadata": {
  "kernelspec": {
   "display_name": "Python 3",
   "language": "python",
   "name": "python3"
  },
  "language_info": {
   "codemirror_mode": {
    "name": "ipython",
    "version": 3
   },
   "file_extension": ".py",
   "mimetype": "text/x-python",
   "name": "python",
   "nbconvert_exporter": "python",
   "pygments_lexer": "ipython3",
   "version": "3.6.2"
  }
 },
 "nbformat": 4,
 "nbformat_minor": 2
}
